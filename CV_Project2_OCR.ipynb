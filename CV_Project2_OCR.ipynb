{
  "nbformat": 4,
  "nbformat_minor": 0,
  "metadata": {
    "colab": {
      "provenance": []
    },
    "kernelspec": {
      "name": "python3",
      "display_name": "Python 3"
    },
    "language_info": {
      "name": "python"
    }
  },
  "cells": [
    {
      "cell_type": "markdown",
      "source": [
        "# CV project"
      ],
      "metadata": {
        "id": "ZXU5ecapursU"
      }
    },
    {
      "cell_type": "markdown",
      "source": [
        "## import libraries"
      ],
      "metadata": {
        "id": "ke4yTxzNu86J"
      }
    },
    {
      "cell_type": "code",
      "execution_count": 1,
      "metadata": {
        "id": "tfB411d6j9vb"
      },
      "outputs": [],
      "source": [
        "import cv2\n",
        "import numpy as np\n",
        "import matplotlib.pyplot as plt\n",
        "import tensorflow as tf \n",
        "from tensorflow.keras import layers\n",
        "from tensorflow.keras.layers import *\n",
        "from skimage.metrics import structural_similarity as ssim"
      ]
    },
    {
      "cell_type": "markdown",
      "source": [
        "## functions"
      ],
      "metadata": {
        "id": "WYQetB6YIAFy"
      }
    },
    {
      "cell_type": "code",
      "source": [
        "def predict(model,images):\n",
        "  y_pred = model.predict(images)\n",
        "  number = \"\"\n",
        "  for i in range(len(images)):\n",
        "    sample_lbl = np.argmax(y_pred[i])\n",
        "    number += str(sample_lbl)\n",
        "  return number"
      ],
      "metadata": {
        "id": "xOTJ5DJcIEHn"
      },
      "execution_count": null,
      "outputs": []
    },
    {
      "cell_type": "markdown",
      "source": [
        "## Part a - Pretrain code"
      ],
      "metadata": {
        "id": "u_6j92t41Mui"
      }
    },
    {
      "cell_type": "code",
      "source": [
        "# your code here #"
      ],
      "metadata": {
        "id": "dfBlype31hp2"
      },
      "execution_count": null,
      "outputs": []
    },
    {
      "cell_type": "markdown",
      "source": [
        "## pat b - predict images"
      ],
      "metadata": {
        "id": "o1H6FLCqHnxi"
      }
    },
    {
      "cell_type": "markdown",
      "source": [
        "### template matching"
      ],
      "metadata": {
        "id": "G_X7Y1y9zuYF"
      }
    },
    {
      "cell_type": "code",
      "source": [
        "# your code here #"
      ],
      "metadata": {
        "id": "1dCTctVeHnFa"
      },
      "execution_count": null,
      "outputs": []
    },
    {
      "cell_type": "markdown",
      "source": [
        "### create your model"
      ],
      "metadata": {
        "id": "aGN55FXlzy4q"
      }
    },
    {
      "cell_type": "code",
      "source": [
        "# your code here #"
      ],
      "metadata": {
        "id": "N031H_yLz4c4"
      },
      "execution_count": null,
      "outputs": []
    },
    {
      "cell_type": "markdown",
      "source": [
        "### transfer learning"
      ],
      "metadata": {
        "id": "3kjQ0qd4z7EU"
      }
    },
    {
      "cell_type": "code",
      "source": [
        "# your code here #"
      ],
      "metadata": {
        "id": "XMkJQh3Y0E1D"
      },
      "execution_count": null,
      "outputs": []
    },
    {
      "cell_type": "markdown",
      "source": [
        "## part c - optional"
      ],
      "metadata": {
        "id": "5g27sRw81ot5"
      }
    },
    {
      "cell_type": "code",
      "source": [
        "# your code here #"
      ],
      "metadata": {
        "id": "LijaT6m211hY"
      },
      "execution_count": null,
      "outputs": []
    }
  ]
}